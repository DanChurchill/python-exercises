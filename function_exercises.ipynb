{
 "cells": [
  {
   "cell_type": "code",
   "execution_count": 134,
   "id": "8168d729",
   "metadata": {},
   "outputs": [],
   "source": [
    "# is_two takes a single parameter, x that is a int or a string, and will return a bool value \n",
    "# if x is either a number or string 2\n",
    "def is_two(x):\n",
    "    # check to see if value = string or number 2\n",
    "    if (x == 2) or (x == '2'):\n",
    "        return True\n",
    "    return False"
   ]
  },
  {
   "cell_type": "markdown",
   "id": "b43c7013",
   "metadata": {},
   "source": [
    "WALKTHROUGH:\n",
    "    \n",
    "    When we pass the number 2 the if statement evaluates True so the return True branch is executed.  \n",
    "    We will see True printed in our console/notebook"
   ]
  },
  {
   "cell_type": "code",
   "execution_count": 135,
   "id": "f3667b16",
   "metadata": {},
   "outputs": [
    {
     "data": {
      "text/plain": [
       "True"
      ]
     },
     "execution_count": 135,
     "metadata": {},
     "output_type": "execute_result"
    }
   ],
   "source": [
    "is_two(2)"
   ]
  },
  {
   "cell_type": "code",
   "execution_count": 140,
   "id": "fce8e6ea",
   "metadata": {},
   "outputs": [],
   "source": [
    "# is_vowel takes a single parameter, x that is a character, and will return a bool value if x is or is not a vowel\n",
    "def is_vowel(x):\n",
    "    # converts to an uppercase character and checks if it is in a list of vowels\n",
    "    if x.upper() in ['A', 'E', 'I', 'O', 'U']:\n",
    "        return True\n",
    "    else:\n",
    "        return False"
   ]
  },
  {
   "cell_type": "markdown",
   "id": "41479bf8",
   "metadata": {},
   "source": [
    "WALKTHROUGH:\n",
    "\n",
    "When we pass the letter g the if statement converts to uppercase and evaluates False because the letter is not in the vowel set, so the return False branch is executed. We will see False printed in our console/notebook\n",
    "\n",
    "When we pass the letter i the if statement converts to uppercase and evaluates True because the letter is in the vowel set, so the return True branch is executed. We will see True printed in our console/notebook\n"
   ]
  },
  {
   "cell_type": "code",
   "execution_count": 141,
   "id": "50d64d97",
   "metadata": {},
   "outputs": [
    {
     "name": "stdout",
     "output_type": "stream",
     "text": [
      "False\n",
      "True\n"
     ]
    }
   ],
   "source": [
    "print(is_vowel('g'))\n",
    "print(is_vowel('i'))\n"
   ]
  },
  {
   "cell_type": "code",
   "execution_count": 142,
   "id": "52cb3a43",
   "metadata": {},
   "outputs": [],
   "source": [
    "# is_consonant takes a single parameter, x that is a character, and will return a bool value if x is or is \n",
    "# not a consonant\n",
    "def is_consonant(x):\n",
    "    # converts to an uppercase character and checks if it is NOT in a list of vowels. \n",
    "    if x.upper() not in ['A', 'E', 'I', 'O', 'U']:\n",
    "        return True\n",
    "    else:\n",
    "        return False"
   ]
  },
  {
   "cell_type": "markdown",
   "id": "7a0ba171",
   "metadata": {},
   "source": [
    "WALKTHROUGH:\n",
    "\n",
    "When we pass the letter h the if statement converts to uppercase and evaluates True because the letter is not in the vowel set, so the return True branch is executed. We will see True printed in our console/notebook\n",
    "\n",
    "When we pass the letter a the if statement converts to uppercase and evaluates False because the letter is in the vowel set, so the return False branch is executed. We will see False printed in our console/notebook"
   ]
  },
  {
   "cell_type": "code",
   "execution_count": 147,
   "id": "89d1f3a7",
   "metadata": {},
   "outputs": [
    {
     "name": "stdout",
     "output_type": "stream",
     "text": [
      "True\n",
      "False\n"
     ]
    }
   ],
   "source": [
    "print(is_consonant('h'))\n",
    "print(is_consonant('a'))\n"
   ]
  },
  {
   "cell_type": "code",
   "execution_count": 144,
   "id": "02d2a636",
   "metadata": {},
   "outputs": [],
   "source": [
    "# fix_string takes a single parameter, x that is a word, and will return the word with the first letter capitalized\n",
    "# if it begins with a consonant\n",
    "def fix_string(x):\n",
    "    # checks the first letter for a consonant using the is_consonant function\n",
    "    if is_consonant(x[0]) == True:\n",
    "        # if the first letter is a consonant it replaces the first letter with an uppercase version and adds\n",
    "        # the rest of the word\n",
    "        return (x[0].upper() + x[1:])\n",
    "    # if the word does not begin with a consonant it returns the original word\n",
    "    return x"
   ]
  },
  {
   "cell_type": "markdown",
   "id": "19317878",
   "metadata": {},
   "source": [
    "WALKTHROUGH:\n",
    "\n",
    "When we pass the word 'cheese' the if statement checks the first letter to see if it is a consonant by using the is_consonant function we previously defined.  If it is a consonanct the True branch returns the first letter as an uppercase character 'C' and then appends the rest of the original word 'heese' (C + heese = Cheese)\n",
    "\n",
    "if the first letter consonant check evaluates false the other branch returns the original word"
   ]
  },
  {
   "cell_type": "code",
   "execution_count": 148,
   "id": "9f6f5c25",
   "metadata": {},
   "outputs": [
    {
     "data": {
      "text/plain": [
       "'Cheese'"
      ]
     },
     "execution_count": 148,
     "metadata": {},
     "output_type": "execute_result"
    }
   ],
   "source": [
    "fix_string('cheese')"
   ]
  },
  {
   "cell_type": "code",
   "execution_count": 109,
   "id": "6599d8ed",
   "metadata": {},
   "outputs": [],
   "source": [
    "# calculate_tip takes two parameters, tip a number between 0 and 1, and total a number\n",
    "# function will return the amount to tip\n",
    "def calculate_tip(tip, total):\n",
    "    # returns the total multiplied by the tip percentage\n",
    "    return (tip * total)"
   ]
  },
  {
   "cell_type": "markdown",
   "id": "9336b931",
   "metadata": {},
   "source": [
    "WALKTHROUGH:\n",
    "\n",
    "When we pass the tip, .15 and the total 198 the function returns the product of the two parameters"
   ]
  },
  {
   "cell_type": "code",
   "execution_count": 149,
   "id": "27a8369a",
   "metadata": {},
   "outputs": [
    {
     "data": {
      "text/plain": [
       "29.7"
      ]
     },
     "execution_count": 149,
     "metadata": {},
     "output_type": "execute_result"
    }
   ],
   "source": [
    "calculate_tip(.15,198)"
   ]
  },
  {
   "cell_type": "code",
   "execution_count": 150,
   "id": "1e89a08b",
   "metadata": {},
   "outputs": [],
   "source": [
    "# apply_discount takes two parameters, the price a number, and discount a number representing the percentage\n",
    "# function will return the price after the discount is applied\n",
    "def apply_discount(price, discount):\n",
    "    # discount is divided by 100 to get the percentage, then multiplied by the price to get amount off and \n",
    "    # subtracted from the price for final cost\n",
    "    return (price - (price * (discount/100)))"
   ]
  },
  {
   "cell_type": "markdown",
   "id": "5414b708",
   "metadata": {},
   "source": [
    "WALKTHROUGH:\n",
    "\n",
    "When we pass the price and discount parameters the function returns the price after subtracting the discount, which is calulated by dividing the discount by 100 and multiplying by the price."
   ]
  },
  {
   "cell_type": "code",
   "execution_count": 116,
   "id": "dd41551d",
   "metadata": {},
   "outputs": [
    {
     "data": {
      "text/plain": [
       "80.0"
      ]
     },
     "execution_count": 116,
     "metadata": {},
     "output_type": "execute_result"
    }
   ],
   "source": [
    "apply_discount(100, 20)"
   ]
  },
  {
   "cell_type": "code",
   "execution_count": 151,
   "id": "e625225a",
   "metadata": {},
   "outputs": [],
   "source": [
    "# handle_commas takes one parameter, 'text' a string that is a number and commas\n",
    "# function will return the number without the commas\n",
    "def handle_commas(text):\n",
    "    #initialize output variable\n",
    "    outstring = ''\n",
    "    # for each character in the input text test if it is not a comma, and add the character to the output if it \n",
    "    # is not\n",
    "    for char in text:\n",
    "        if char != ',':\n",
    "            outstring += char\n",
    "    return outstring"
   ]
  },
  {
   "cell_type": "markdown",
   "id": "9227b456",
   "metadata": {},
   "source": [
    "WALKTHROUGH:\n",
    "\n",
    "First an empty string is initialized to hold our output.  Then when we pass \"1,000,000\" to the function it evaluates each letter using a for loop.  For each letter it determines if the character is a comma.  If it is not a comma, it adds the character to the output string.  If the character is a comma it skips to the next iteration of the loop.  Once all characters are checked the output string is returned."
   ]
  },
  {
   "cell_type": "code",
   "execution_count": 152,
   "id": "a82ae5d3",
   "metadata": {},
   "outputs": [
    {
     "data": {
      "text/plain": [
       "'1000000'"
      ]
     },
     "execution_count": 152,
     "metadata": {},
     "output_type": "execute_result"
    }
   ],
   "source": [
    "handle_commas('1,000,000')"
   ]
  },
  {
   "cell_type": "code",
   "execution_count": 153,
   "id": "de60956d",
   "metadata": {},
   "outputs": [],
   "source": [
    "# get_letter_grade takes one parameter, grade which is a number between 1-100\n",
    "# function will return a letter grade based upon the range previously provided\n",
    "def get_letter_grade(grade):\n",
    "    # check for A range and return if true\n",
    "    if grade >= 88:\n",
    "        return 'A'\n",
    "    # check for B range and return if true\n",
    "    elif grade >= 80:\n",
    "        return 'B'\n",
    "    # check for C range and return if true\n",
    "    elif grade >= 67:\n",
    "        return 'C'\n",
    "    # check for D range and return if true\n",
    "    elif grade >= 60:\n",
    "        return 'D'\n",
    "    # if none of the other ranges were found return F\n",
    "    else:\n",
    "        return 'F'"
   ]
  },
  {
   "cell_type": "markdown",
   "id": "91927779",
   "metadata": {},
   "source": [
    "WALKTHROUGH:\n",
    "\n",
    "When we pass 56 the first four if/elif branches all evaluate false so it skips to the else statement and returns false"
   ]
  },
  {
   "cell_type": "code",
   "execution_count": 120,
   "id": "49b42a64",
   "metadata": {},
   "outputs": [
    {
     "data": {
      "text/plain": [
       "'F'"
      ]
     },
     "execution_count": 120,
     "metadata": {},
     "output_type": "execute_result"
    }
   ],
   "source": [
    "get_letter_grade(56)"
   ]
  },
  {
   "cell_type": "code",
   "execution_count": 123,
   "id": "15242149",
   "metadata": {},
   "outputs": [],
   "source": [
    "# remove_vowels takes one parameter, stuff a string\n",
    "# function will return the string with the vowels removed\n",
    "def remove_vowels(stuff):\n",
    "    # initialize output string\n",
    "    output = ''\n",
    "    # iterate through each letter\n",
    "    for letter in stuff:\n",
    "        # if the letter is a consonant add it to the output, otherwise move to the next character\n",
    "        if is_consonant(letter) == True:\n",
    "            output += letter\n",
    "    return output"
   ]
  },
  {
   "cell_type": "markdown",
   "id": "78cedf88",
   "metadata": {},
   "source": [
    "WALKTHROUGH:\n",
    "\n",
    "First the empty string output is initialized to hold our output.  When the for loop is initiated each character is evaluated to see if it is a consonanct, and and if so it is added to the output.  If it wasn't a consonant it proceeded to the next character until the entire word was evaluated.  Then the output string is returned."
   ]
  },
  {
   "cell_type": "code",
   "execution_count": 154,
   "id": "cea78bab",
   "metadata": {},
   "outputs": [
    {
     "data": {
      "text/plain": [
       "'hll.  Hw r y?'"
      ]
     },
     "execution_count": 154,
     "metadata": {},
     "output_type": "execute_result"
    }
   ],
   "source": [
    "remove_vowels(\"hello.  How are you?\")"
   ]
  },
  {
   "cell_type": "code",
   "execution_count": 2,
   "id": "2a4fb61c",
   "metadata": {},
   "outputs": [],
   "source": [
    "# normalize_name takes one parameter, astring which is a string, and will return a valid python identifier\n",
    "# function returns the input with non-alphanumeric characters removed, leading and trailing whitespace removed,\n",
    "# everything lowercase, and spaces replaced with underscores\n",
    "def normalize_name(astring):\n",
    "    # initialize output\n",
    "    output = ''\n",
    "    # for each character in the input\n",
    "    for char in astring:\n",
    "        # convert whitespace to _\n",
    "        if char == ' ':\n",
    "            output += '_'\n",
    "        # remove non-alphanumeric\n",
    "        elif char.isalnum():\n",
    "            output += char\n",
    "    # now that the characters have been replaced and put in the output string,\n",
    "    # perform operations on the output to convert it\n",
    "    \n",
    "    # make lowercase\n",
    "    output = output.lower()\n",
    "    #remove leading _'s by checking for _ at the first character and removing until we get to another character\n",
    "    while output[0] == '_':\n",
    "        output = output[1:]\n",
    "    #remove trailing _'s by checking for _ at the last character and removing until we get to another character\n",
    "    while output[-1]== '_':\n",
    "        output = output[:-1]\n",
    "    return output\n"
   ]
  },
  {
   "cell_type": "markdown",
   "id": "5dcd3523",
   "metadata": {},
   "source": [
    "WALKTHROUGH:\n",
    "\n",
    "First the empty string output is initialized to hold our output.  When the first for loop is initiated each character is evaluated to see if it is a whitespace character and if so it is converted to an underscore and added to the output.  If it wasn't whitespace then the character is then evaluated to see if it is alpha-numeric.  If it is it is added to the output, otherwise it is skipped.  Output now contains the original astring input with special characters eliminated and whitespece converted to underscores.  Next the string is converted to lowercase.  Then a while loop checks the first character for underscore.  If it is an underscore it updates the output to the original minus the underscore.  As soon as it encounters a non-underscore it moves on.  The process is then repeated on the last character to remove underscores.  The output is now fully converted and returned back."
   ]
  },
  {
   "cell_type": "code",
   "execution_count": 7,
   "id": "ef04b814",
   "metadata": {},
   "outputs": [
    {
     "data": {
      "text/plain": [
       "'h_89uii'"
      ]
     },
     "execution_count": 7,
     "metadata": {},
     "output_type": "execute_result"
    }
   ],
   "source": [
    "normalize_name('   #h 89uii  ')"
   ]
  },
  {
   "cell_type": "code",
   "execution_count": 157,
   "id": "febe841a",
   "metadata": {},
   "outputs": [],
   "source": [
    "# cumulative_sum takes one parameter, numbers a list of numbers, and returns a list that is the cumulative sum of \n",
    "# the numbers in the list\n",
    "\n",
    "def cumulative_sum(numbers):\n",
    "    # initialize output list\n",
    "    output = []\n",
    "    # iterate through each number in the original list starting with the second number going through the last number\n",
    "    for i in range(1, len(numbers)+1):\n",
    "        # append the sum of the numbers from the first number through the current number to the output list\n",
    "        output.append(sum(numbers[0:i]))\n",
    "    return output"
   ]
  },
  {
   "cell_type": "markdown",
   "id": "88ceac59",
   "metadata": {},
   "source": [
    "WALKTHROUGH:\n",
    "\n",
    "The list of numbers 2,1,3,4 is passed to the function.  First the empty list is initialized to hold our output.  A loop then begins with an index (i) starting at 1 and counting up to the number of numbers in the list (4)\n",
    "For each iteration of the loop the output string has number added that is the sum of the first number through the i value.  On the first loop it appends the sum of:  the first number (2) through the number with the index of i.  This includes only the first number.  On the second loop it appends the sum of: the first number through the number with the index of 2.  This includes 2 and 1, so 3 is appended.  This continues through the entire string returning [2,3,6,10]"
   ]
  },
  {
   "cell_type": "code",
   "execution_count": 158,
   "id": "99a2bb1e",
   "metadata": {},
   "outputs": [
    {
     "data": {
      "text/plain": [
       "[2, 3, 6, 10]"
      ]
     },
     "execution_count": 158,
     "metadata": {},
     "output_type": "execute_result"
    }
   ],
   "source": [
    "cumulative_sum([2,1,3,4])"
   ]
  },
  {
   "cell_type": "code",
   "execution_count": 221,
   "id": "8fee282a",
   "metadata": {},
   "outputs": [],
   "source": [
    "# twelveto24 accepts a string in the format 10:45AM or 4:30PM and returns a string \n",
    "# representing the time in 24-hour format\n",
    "\n",
    "def twelveto24(time):\n",
    "    #break the string into components that can be evaluated. Evaluated from end since hour can be 1 or 2 digits\n",
    "    \n",
    "    #last two chars as ampm\n",
    "    ampm = time[-2:]\n",
    "   \n",
    "    #minutes as minutes\n",
    "    minutes = time[-4:-2]\n",
    "    \n",
    "    #hours as hours saved as int for math\n",
    "    hours = int(time[-7:-5])\n",
    "    \n",
    "    #add 12 to hours if PM and not 12:XX PM\n",
    "    if ampm == 'PM' and hours != 12:\n",
    "        hours += 12\n",
    "        \n",
    "    #set hours 0 if AM and 12:XX\n",
    "    if ampm == 'AM' and hours == 12:\n",
    "        hours = 0\n",
    "        \n",
    "    # convert hours back to str\n",
    "    hours = str(hours)\n",
    "    \n",
    "    # add leading zero if only hours is one digit\n",
    "    if len(hours) == 1:\n",
    "        hours = '0' + hours\n",
    "   \n",
    "    # concat hours and minutes\n",
    "    output = hours + minutes\n",
    "    return output    \n",
    "    "
   ]
  },
  {
   "cell_type": "markdown",
   "id": "181ab647",
   "metadata": {},
   "source": [
    "WALKTHROUGH:\n",
    "\n",
    "The time '9:45AM' is passed to the function.  The time is broken into components:\n",
    "    string variable ampm is set to the last to characters of the input ('AM')\n",
    "    string viaiable minutes is set to the minutes ('45')\n",
    "    int variable hours stores the value of the hours (9)\n",
    "The ampm is checked for PM and if it was 12 is added to hours (as long as hours are not 12)\n",
    "The hours would be changed to zero if it's 12:XX AM\n",
    "The hours are then converted back to a string '9'\n",
    "The hour is checked for only one digits, and a leading 0 is added if necessary\n",
    "The minute and hour strings are then added together and the output returned"
   ]
  },
  {
   "cell_type": "code",
   "execution_count": 222,
   "id": "67aed8b6",
   "metadata": {},
   "outputs": [
    {
     "data": {
      "text/plain": [
       "'0945'"
      ]
     },
     "execution_count": 222,
     "metadata": {},
     "output_type": "execute_result"
    }
   ],
   "source": [
    "twelveto24('9:45AM')"
   ]
  },
  {
   "cell_type": "markdown",
   "id": "fb7d12b7",
   "metadata": {},
   "source": [
    "WALKTHROUGH:\n",
    "\n",
    "The time '12:45AM' is passed to the function. The time is broken into components: string variable ampm is set to the last to characters of the input ('PM') string viaiable minutes is set to the minutes ('45') int variable hours stores the value of the hours (12) The ampm is checked for PM and if it had been 12 is added to hours (as long as hours are not 12) The hours were then checked and set to zero because it's 12:XX AM.  The hours are then converted back to a string '12' The hour is checked for only one digits, and a leading 0 is added if necessary.  The minute and hour strings are then added together and the output returned"
   ]
  },
  {
   "cell_type": "code",
   "execution_count": 225,
   "id": "2b3ee2c1",
   "metadata": {},
   "outputs": [
    {
     "data": {
      "text/plain": [
       "'0045'"
      ]
     },
     "execution_count": 225,
     "metadata": {},
     "output_type": "execute_result"
    }
   ],
   "source": [
    "twelveto24('12:45AM')"
   ]
  },
  {
   "cell_type": "code",
   "execution_count": 317,
   "id": "8b4226a8",
   "metadata": {},
   "outputs": [],
   "source": [
    "# col index accepts a string in the format of a spreadsheet column name, and returns the index # of the column\n",
    "\n",
    "def col_index(column):\n",
    "    # initialize output variable\n",
    "    output = 0\n",
    "    \n",
    "    # loop from 1 to X where x is the length of the column name\n",
    "    for i in range(1, len(column)+1):\n",
    "        # using -i to start at end of name, make the character uppercase\n",
    "        letter = column[-i].upper()\n",
    "        # get ordinal value of letter and subtract 64 to get cypher value (A=1, B=2, etc)\n",
    "        value = ord(letter) - 64\n",
    "        # add the value of the letter to the total\n",
    "        output += value\n",
    "        # test if this is the first loop.  If not, add 25 each iteration through to account for A-, A--, etc\n",
    "        if i > 1:\n",
    "            output += 25\n",
    "    # return final count\n",
    "    return output\n",
    "        \n",
    "    \n",
    "\n",
    "        \n",
    "    "
   ]
  },
  {
   "cell_type": "markdown",
   "id": "4e88d1fe",
   "metadata": {},
   "source": [
    "WALKTHROUGH:\n",
    "\n",
    "The string 'ABC' is passed to the function and the output variable is initialized.  We then start a loop that goes from 1 to 3, the number of characters in the column name.  In the first loop the last letter 'C' is selected and made uppercase.  We then get the ordinal value of the character which is 67, and subtract 64 to get the cypher value 3.  That 3 is then added to the output.  The if loop is not executed because i is not greater than 1.  On the next loop i is 2 so we get the second to last character 'B' and make it uppercase.  We get the ordinal value 66 and subtract 64 to get the cypher value 2 which is added to the output.  The if evaluates as true, and we add 25 to the output to account for this being the next digit in a base-26 counting system.  The process continues using the 'A', getting the cypher value 1 and adding it to the output, as well as another 25 for the third digit in the base-25 counting system. Now that all digits were tested the output is returned as the column index number."
   ]
  },
  {
   "cell_type": "code",
   "execution_count": 320,
   "id": "1c6b71ef",
   "metadata": {},
   "outputs": [
    {
     "data": {
      "text/plain": [
       "56"
      ]
     },
     "execution_count": 320,
     "metadata": {},
     "output_type": "execute_result"
    }
   ],
   "source": [
    "col_index(\"ABC\")"
   ]
  },
  {
   "cell_type": "code",
   "execution_count": null,
   "id": "52a28dc3",
   "metadata": {},
   "outputs": [],
   "source": []
  },
  {
   "cell_type": "code",
   "execution_count": null,
   "id": "9f8679cf",
   "metadata": {},
   "outputs": [],
   "source": []
  }
 ],
 "metadata": {
  "kernelspec": {
   "display_name": "Python 3 (ipykernel)",
   "language": "python",
   "name": "python3"
  },
  "language_info": {
   "codemirror_mode": {
    "name": "ipython",
    "version": 3
   },
   "file_extension": ".py",
   "mimetype": "text/x-python",
   "name": "python",
   "nbconvert_exporter": "python",
   "pygments_lexer": "ipython3",
   "version": "3.9.12"
  }
 },
 "nbformat": 4,
 "nbformat_minor": 5
}
