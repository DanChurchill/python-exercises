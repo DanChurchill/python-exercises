{
 "cells": [
  {
   "cell_type": "code",
   "execution_count": null,
   "id": "e893d550",
   "metadata": {},
   "outputs": [],
   "source": [
    "# prompt the user for a day of the week, print out whether the day is Monday or not"
   ]
  },
  {
   "cell_type": "code",
   "execution_count": null,
   "id": "60cd8d90",
   "metadata": {},
   "outputs": [],
   "source": [
    "what_day = input(\"what day is it?  \")\n",
    "\n",
    "if what_day.upper() == \"MONDAY\":\n",
    "    print(\"It's Monday!!!\")\n",
    "else:\n",
    "    print (\"Not Monday\")"
   ]
  },
  {
   "cell_type": "code",
   "execution_count": null,
   "id": "49e2f471",
   "metadata": {},
   "outputs": [],
   "source": [
    "# prompt the user for a day of the week, print out whether the day is a weekday or a weekend"
   ]
  },
  {
   "cell_type": "code",
   "execution_count": 3,
   "id": "e2ee540c",
   "metadata": {},
   "outputs": [
    {
     "name": "stdout",
     "output_type": "stream",
     "text": [
      "What day is it?  mOnDAY\n",
      "it's a weekday!\n"
     ]
    }
   ],
   "source": [
    "weekdays = ['monday', 'tuesday', 'wednesday', 'thursday', 'friday']\n",
    "weekend = ['saturday', 'sunday']\n",
    "\n",
    "is_it_weekend = input(\"What day is it?  \")\n",
    "\n",
    "if is_it_weekend.lower() in weekdays:\n",
    "    print(\"it's a weekday!\")\n",
    "elif is_it_weekend.lower() in weekend:\n",
    "    print(\"it's a weekend\")\n",
    "else: \n",
    "    print(\"that's not a day!\")\n",
    "\n"
   ]
  },
  {
   "cell_type": "code",
   "execution_count": null,
   "id": "bff71cbf",
   "metadata": {},
   "outputs": [],
   "source": [
    "# # create variables and make up values for\n",
    "\n",
    "# the number of hours worked in one week\n",
    "# the hourly rate\n",
    "# how much the week's paycheck will be\n",
    "# write the python code that calculates the weekly paycheck. \n",
    "# You get paid time and a half if you work more than 40 hours"
   ]
  },
  {
   "cell_type": "code",
   "execution_count": 6,
   "id": "44ef6384",
   "metadata": {},
   "outputs": [
    {
     "name": "stdout",
     "output_type": "stream",
     "text": [
      "$ 650.00\n"
     ]
    }
   ],
   "source": [
    "week_hours = 48\n",
    "hourly_rate = 12.50\n",
    "paycheck = 0\n",
    "\n",
    "if week_hours > 40:\n",
    "    paycheck = ((week_hours - 40) * (hourly_rate * 1.5)) + 40 * hourly_rate\n",
    "else:\n",
    "    paycheck = week_hours * hourly_rate\n",
    "    \n",
    "print('$', \"{:.2f}\".format(paycheck))\n"
   ]
  },
  {
   "cell_type": "code",
   "execution_count": null,
   "id": "ddc9890e",
   "metadata": {},
   "outputs": [],
   "source": [
    "# While\n",
    "\n",
    "# Create an integer variable i with a value of 5.\n",
    "# Create a while loop that runs so long as i is less than or equal to 15\n",
    "# Each loop iteration, output the current value of i, then increment i by one.\n"
   ]
  },
  {
   "cell_type": "code",
   "execution_count": 7,
   "id": "fc55311b",
   "metadata": {},
   "outputs": [
    {
     "name": "stdout",
     "output_type": "stream",
     "text": [
      "5\n",
      "6\n",
      "7\n",
      "8\n",
      "9\n",
      "10\n",
      "11\n",
      "12\n",
      "13\n",
      "14\n",
      "15\n"
     ]
    }
   ],
   "source": [
    "i = 5\n",
    "\n",
    "while i <= 15:\n",
    "    print(i)\n",
    "    i += 1\n",
    "    "
   ]
  },
  {
   "cell_type": "code",
   "execution_count": null,
   "id": "8cb91594",
   "metadata": {},
   "outputs": [],
   "source": [
    "# Create a while loop that will count by 2's starting with 0 and ending at 100. Follow each number with a new line."
   ]
  },
  {
   "cell_type": "code",
   "execution_count": null,
   "id": "97316869",
   "metadata": {},
   "outputs": [],
   "source": [
    "i = 0\n",
    "while i <= 100:\n",
    "    print(i)\n",
    "    i += 2"
   ]
  },
  {
   "cell_type": "code",
   "execution_count": null,
   "id": "3d756404",
   "metadata": {},
   "outputs": [],
   "source": [
    "# Alter your loop to count backwards by 5's from 100 to -10."
   ]
  },
  {
   "cell_type": "code",
   "execution_count": null,
   "id": "791a7866",
   "metadata": {},
   "outputs": [],
   "source": [
    "i = 100\n",
    "while i >= -10:\n",
    "    print(i)\n",
    "    i -= 5"
   ]
  },
  {
   "cell_type": "code",
   "execution_count": null,
   "id": "4dcf3ea9",
   "metadata": {},
   "outputs": [],
   "source": [
    "# Create a while loop that starts at 2, and displays the number squared on each line while\n",
    "# the number is less than 1,000,000. Output should equal:"
   ]
  },
  {
   "cell_type": "code",
   "execution_count": null,
   "id": "684e6de1",
   "metadata": {},
   "outputs": [],
   "source": [
    "i = 2\n",
    "while i < 1000000:\n",
    "    print(i)\n",
    "    i = i**2"
   ]
  },
  {
   "cell_type": "code",
   "execution_count": null,
   "id": "b16815d8",
   "metadata": {},
   "outputs": [],
   "source": [
    "# Write a loop that uses print to create the output shown below"
   ]
  },
  {
   "cell_type": "code",
   "execution_count": null,
   "id": "280d5196",
   "metadata": {},
   "outputs": [],
   "source": [
    "i = 100\n",
    "while i > 0:\n",
    "    print(i)\n",
    "    i -= 5"
   ]
  },
  {
   "cell_type": "code",
   "execution_count": null,
   "id": "ab184bdc",
   "metadata": {},
   "outputs": [],
   "source": [
    "# Write some code that prompts the user for a number, then shows a multiplication table up through 10 for that number."
   ]
  },
  {
   "cell_type": "markdown",
   "id": "c40805cc",
   "metadata": {},
   "source": []
  },
  {
   "cell_type": "code",
   "execution_count": null,
   "id": "c447f4f5",
   "metadata": {},
   "outputs": [],
   "source": []
  },
  {
   "cell_type": "code",
   "execution_count": 13,
   "id": "d21c6962",
   "metadata": {},
   "outputs": [
    {
     "name": "stdout",
     "output_type": "stream",
     "text": [
      "give me a number:  5\n",
      "5  x  1  =  5\n",
      "5  x  2  =  10\n",
      "5  x  3  =  15\n",
      "5  x  4  =  20\n",
      "5  x  5  =  25\n",
      "5  x  6  =  30\n",
      "5  x  7  =  35\n",
      "5  x  8  =  40\n",
      "5  x  9  =  45\n",
      "5  x  10  =  50\n"
     ]
    }
   ],
   "source": [
    "number = int(input(\"give me a number:  \"))\n",
    "\n",
    "i = 1\n",
    "while i <= 10:\n",
    "    print(number, \" x \",i,\" = \", number*i)\n",
    "    i += 1\n",
    "    \n"
   ]
  },
  {
   "cell_type": "code",
   "execution_count": null,
   "id": "ef4b541f",
   "metadata": {},
   "outputs": [],
   "source": [
    "# Create a for loop that uses print to create the output shown below."
   ]
  },
  {
   "cell_type": "code",
   "execution_count": 14,
   "id": "3fbc92be",
   "metadata": {},
   "outputs": [
    {
     "name": "stdout",
     "output_type": "stream",
     "text": [
      "1\n",
      "22\n",
      "333\n",
      "4444\n",
      "55555\n",
      "666666\n",
      "7777777\n",
      "88888888\n",
      "999999999\n"
     ]
    }
   ],
   "source": [
    "i = 1\n",
    "\n",
    "while i < 10:\n",
    "    j = 1\n",
    "    while j <= i:\n",
    "        print(i,end = '')\n",
    "        j +=1\n",
    "    print(\"\")\n",
    "    i += 1"
   ]
  },
  {
   "cell_type": "code",
   "execution_count": null,
   "id": "0a45a9c8",
   "metadata": {},
   "outputs": [],
   "source": [
    "# Prompt the user for an odd number between 1 and 50. \n",
    "# Use a loop and a break statement to continue prompting the user if they enter invalid input. \n",
    "# (Hint: use the isdigit method on strings to determine this). Use a loop and the continue statement \n",
    "# to output all the odd numbers between 1 and 50, except for the number the user entered."
   ]
  },
  {
   "cell_type": "code",
   "execution_count": null,
   "id": "b8d583bb",
   "metadata": {},
   "outputs": [],
   "source": []
  },
  {
   "cell_type": "code",
   "execution_count": 19,
   "id": "4223854d",
   "metadata": {},
   "outputs": [
    {
     "name": "stdout",
     "output_type": "stream",
     "text": [
      "give me an odd number between 1 and 50:  8\n",
      "give me an odd number between 1 and 50:  -4\n",
      "give me an odd number between 1 and 50:  7\n",
      "Number to skip is:   7\n",
      "Here is an odd number:  1\n",
      "Here is an odd number:  3\n",
      "Here is an odd number:  5\n",
      "Yikes! Skipping number:  7\n",
      "Here is an odd number:  9\n",
      "Here is an odd number:  11\n",
      "Here is an odd number:  13\n",
      "Here is an odd number:  15\n",
      "Here is an odd number:  17\n",
      "Here is an odd number:  19\n",
      "Here is an odd number:  21\n",
      "Here is an odd number:  23\n",
      "Here is an odd number:  25\n",
      "Here is an odd number:  27\n",
      "Here is an odd number:  29\n",
      "Here is an odd number:  31\n",
      "Here is an odd number:  33\n",
      "Here is an odd number:  35\n",
      "Here is an odd number:  37\n",
      "Here is an odd number:  39\n",
      "Here is an odd number:  41\n",
      "Here is an odd number:  43\n",
      "Here is an odd number:  45\n",
      "Here is an odd number:  47\n",
      "Here is an odd number:  49\n"
     ]
    }
   ],
   "source": [
    "while True:\n",
    "    number = input(\"give me an odd number between 1 and 50:  \")\n",
    "    if (number.isdigit() == True) and (int(number) <= 50) and (int(number) >=1) and (int(number) %2 == 1):\n",
    "        break\n",
    "    \n",
    "number = int(number)\n",
    "\n",
    "print(\"Number to skip is:  \", number)\n",
    "\n",
    "j=1\n",
    "while j < 50:\n",
    "    if j == number:\n",
    "        print('Yikes! Skipping number: ',number)\n",
    "        j += 2\n",
    "        continue\n",
    "    print('Here is an odd number: ',j)\n",
    "    j += 2\n",
    "\n",
    "\n",
    "\n",
    "        \n",
    "    \n",
    "    \n",
    "        "
   ]
  },
  {
   "cell_type": "code",
   "execution_count": null,
   "id": "8b9f6bcf",
   "metadata": {},
   "outputs": [],
   "source": [
    "# # The input function can be used to prompt for input and use that input in your python code. \n",
    "# Prompt the user to enter a positive number and write a loop that counts from 0 to that number. \n",
    "# (Hints: first make sure that the value the user entered is a valid number, \n",
    "#  also note that the input function returns a string, so you'll need to convert this to a numeric type.)"
   ]
  },
  {
   "cell_type": "code",
   "execution_count": null,
   "id": "e7a04cff",
   "metadata": {},
   "outputs": [],
   "source": [
    "i = 0\n",
    "while i < 1:\n",
    "    number = input(\"give me a positive number between 1 and 50:  \")\n",
    "    if (number.isdigit() == True) and (int(number) <= 50) and (int(number) >=1):\n",
    "        break\n",
    "    \n",
    "number = int(number)\n",
    "\n",
    "j=0\n",
    "while j <= number:\n",
    "    print(j)\n",
    "    j+=1\n",
    "\n",
    "\n",
    "    \n",
    "    \n",
    "        \n"
   ]
  },
  {
   "cell_type": "code",
   "execution_count": null,
   "id": "54cf23cc",
   "metadata": {},
   "outputs": [],
   "source": [
    "# Write a program that prompts the user for a positive integer. \n",
    "# Next write a loop that prints out the numbers from the number the user entered down to 1.\n",
    "\n",
    "while True:\n",
    "    number = input(\"give me a positive number between 1 and 50:  \")\n",
    "    if (number.isdigit() == True) and (int(number) <= 50) and (int(number) >=1):\n",
    "        break\n",
    "        \n",
    "j=int(number)\n",
    "while j >= 0:\n",
    "    print(j)\n",
    "    j-=1"
   ]
  },
  {
   "cell_type": "code",
   "execution_count": 23,
   "id": "fbb35071",
   "metadata": {},
   "outputs": [
    {
     "name": "stdout",
     "output_type": "stream",
     "text": [
      "1\n",
      "2\n",
      "Fizz\n",
      "4\n",
      "Buzz\n",
      "Fizz\n",
      "7\n",
      "8\n",
      "Fizz\n",
      "Buzz\n",
      "11\n",
      "Fizz\n",
      "13\n",
      "14\n",
      "FizzBuzz\n",
      "16\n",
      "17\n",
      "Fizz\n",
      "19\n",
      "Buzz\n",
      "Fizz\n",
      "22\n",
      "23\n",
      "Fizz\n",
      "Buzz\n",
      "26\n",
      "Fizz\n",
      "28\n",
      "29\n",
      "FizzBuzz\n",
      "31\n",
      "32\n",
      "Fizz\n",
      "34\n",
      "Buzz\n",
      "Fizz\n",
      "37\n",
      "38\n",
      "Fizz\n",
      "Buzz\n",
      "41\n",
      "Fizz\n",
      "43\n",
      "44\n",
      "FizzBuzz\n",
      "46\n",
      "47\n",
      "Fizz\n",
      "49\n",
      "Buzz\n",
      "Fizz\n",
      "52\n",
      "53\n",
      "Fizz\n",
      "Buzz\n",
      "56\n",
      "Fizz\n",
      "58\n",
      "59\n",
      "FizzBuzz\n",
      "61\n",
      "62\n",
      "Fizz\n",
      "64\n",
      "Buzz\n",
      "Fizz\n",
      "67\n",
      "68\n",
      "Fizz\n",
      "Buzz\n",
      "71\n",
      "Fizz\n",
      "73\n",
      "74\n",
      "FizzBuzz\n",
      "76\n",
      "77\n",
      "Fizz\n",
      "79\n",
      "Buzz\n",
      "Fizz\n",
      "82\n",
      "83\n",
      "Fizz\n",
      "Buzz\n",
      "86\n",
      "Fizz\n",
      "88\n",
      "89\n",
      "FizzBuzz\n",
      "91\n",
      "92\n",
      "Fizz\n",
      "94\n",
      "Buzz\n",
      "Fizz\n",
      "97\n",
      "98\n",
      "Fizz\n",
      "Buzz\n"
     ]
    }
   ],
   "source": [
    "# One of the most common interview questions for entry-level programmers is the FizzBuzz test. \n",
    "# Developed by Imran Ghory, the test is designed to test basic looping and conditional logic skills.\n",
    "\n",
    "# Write a program that prints the numbers from 1 to 100.\n",
    "# For multiples of three print \"Fizz\" instead of the number\n",
    "# For the multiples of five print \"Buzz\".\n",
    "# For numbers which are multiples of both three and five print \"FizzBuzz\".\n",
    "\n",
    "i = 0\n",
    "\n",
    "while i <= 99:\n",
    "    i+=1\n",
    "    if i%3==0 and i%5==0:\n",
    "        print('FizzBuzz')\n",
    "        continue\n",
    "    if i%3==0:\n",
    "        print('Fizz')\n",
    "        continue\n",
    "    if i%5==0:\n",
    "        print('Buzz')\n",
    "        continue\n",
    "    print(i)\n",
    "    "
   ]
  },
  {
   "cell_type": "code",
   "execution_count": 22,
   "id": "1881a658",
   "metadata": {},
   "outputs": [
    {
     "name": "stdout",
     "output_type": "stream",
     "text": [
      "What number would you like to go up to?  6\n",
      "Here is your table!\n",
      "\n",
      "number | squared | cubed\n",
      "------ | ------- | -----\n",
      "1      |  1      |  1        \n",
      "2      |  4      |  8        \n",
      "3      |  9      |  27       \n",
      "4      |  16     |  64       \n",
      "5      |  25     |  125      \n",
      "6      |  36     |  216      \n",
      "Would you like to continue? (Y/N)n\n"
     ]
    }
   ],
   "source": [
    "# Display a table of powers.\n",
    "\n",
    "# Prompt the user to enter an integer.\n",
    "# Display a table of squares and cubes from 1 to the value entered.\n",
    "# Ask if the user wants to continue.\n",
    "# Assume that the user will enter valid data.\n",
    "# Only continue if the user agrees to.\n",
    "while True:\n",
    "    number = int(input(\"What number would you like to go up to?  \"))\n",
    "\n",
    "    print(\"Here is your table!\")\n",
    "    print(\"\")\n",
    "    print(\"number | squared | cubed\")\n",
    "    print(\"------ | ------- | -----\")\n",
    "\n",
    "    i = 1\n",
    "    pipe = \"|  \"\n",
    "    while i <= number:\n",
    "        print(f\"{i : <7}{pipe : <1}{i**2 : <7}{pipe : <1}{i**3 : <9}\")\n",
    "        i +=1\n",
    "    check = input(\"Would you like to continue? (Y/N)\")\n",
    "    if check == 'Y':\n",
    "        continue\n",
    "    else:\n",
    "        break"
   ]
  },
  {
   "cell_type": "code",
   "execution_count": 1,
   "id": "771a57ed",
   "metadata": {},
   "outputs": [
    {
     "name": "stdout",
     "output_type": "stream",
     "text": [
      "enter the numerical grade  :67\n",
      "The grade is C\n",
      "Would you like to continue? (Y/N)j\n"
     ]
    }
   ],
   "source": [
    "# Convert given number grades into letter grades.\n",
    "\n",
    "# Prompt the user for a numerical grade from 0 to 100.\n",
    "# Display the corresponding letter grade.\n",
    "# Prompt the user to continue.\n",
    "# Assume that the user will enter valid integers for the grades.\n",
    "# The application should only continue if the user agrees to.\n",
    "# Grade Ranges:\n",
    "\n",
    "# A : 100 - 88\n",
    "# B : 87 - 80\n",
    "# C : 79 - 67\n",
    "# D : 66 - 60\n",
    "# F : 59 - 0\n",
    "\n",
    "while True:\n",
    "    grade = int(input(\"enter the numerical grade  :\"))\n",
    "    if grade >= 88:\n",
    "        print(\"The grade is A\")\n",
    "    elif grade >= 80:\n",
    "        print(\"The grade is B\")\n",
    "    elif grade >= 67:\n",
    "        print(\"The grade is C\")\n",
    "    elif grade >= 60:\n",
    "        print(\"The grade is D\")\n",
    "    else:\n",
    "        print(\"The grade is F\")\n",
    "    check = input(\"Would you like to continue? (Y/N)\")\n",
    "    if check == 'Y':\n",
    "        continue\n",
    "    else:\n",
    "        break\n",
    "\n"
   ]
  },
  {
   "cell_type": "code",
   "execution_count": 2,
   "id": "65171269",
   "metadata": {
    "scrolled": true
   },
   "outputs": [
    {
     "name": "stdout",
     "output_type": "stream",
     "text": [
      "{'title': 'Green Eggs and Ham', 'author': 'Dr. Seuss', 'genre': \"children's\"}\n",
      "{'title': 'IT', 'author': 'Stephen King', 'genre': 'Horror'}\n",
      "{'title': 'coloring trees', 'author': 'some guy', 'genre': \"children's\"}\n"
     ]
    }
   ],
   "source": [
    "# Create a list of dictionaries where each dictionary represents a book that you have read. \n",
    "# Each dictionary in the list should have the keys title, author, and genre. \n",
    "# Loop through the list and print out information about each book.\n",
    "\n",
    "mybooks = [\n",
    "    {\n",
    "        \"title\": \"Green Eggs and Ham\",\n",
    "        \"author\": \"Dr. Seuss\",\n",
    "        \"genre\": \"children's\"\n",
    "    },\n",
    "    \n",
    "    {\n",
    "        \"title\": \"IT\",\n",
    "        \"author\": \"Stephen King\",\n",
    "        \"genre\": \"Horror\"        \n",
    "    },\n",
    "    \n",
    "    {\n",
    "        \"title\": \"coloring trees\",\n",
    "        \"author\": \"some guy\",\n",
    "        \"genre\": \"children's\"\n",
    "    }]\n",
    "\n",
    "for book in mybooks:\n",
    "    print(book)\n"
   ]
  },
  {
   "cell_type": "code",
   "execution_count": 3,
   "id": "0b4d5f9d",
   "metadata": {},
   "outputs": [
    {
     "name": "stdout",
     "output_type": "stream",
     "text": [
      "What genre? Choose children's, or HorrorHorror\n",
      "IT\n"
     ]
    }
   ],
   "source": [
    "# Prompt the user to enter a genre, \n",
    "# then loop through your books list and print out the titles of all the books in that genre.\n",
    "\n",
    "what_genre = input(\"What genre? Choose children's, or Horror\")\n",
    "\n",
    "for book in mybooks:\n",
    "    if book[\"genre\"] == what_genre:\n",
    "        print(book[\"title\"])\n"
   ]
  },
  {
   "cell_type": "code",
   "execution_count": null,
   "id": "f89b0d2a",
   "metadata": {
    "scrolled": false
   },
   "outputs": [],
   "source": []
  },
  {
   "cell_type": "code",
   "execution_count": null,
   "id": "aa566e42",
   "metadata": {},
   "outputs": [],
   "source": []
  }
 ],
 "metadata": {
  "kernelspec": {
   "display_name": "Python 3 (ipykernel)",
   "language": "python",
   "name": "python3"
  },
  "language_info": {
   "codemirror_mode": {
    "name": "ipython",
    "version": 3
   },
   "file_extension": ".py",
   "mimetype": "text/x-python",
   "name": "python",
   "nbconvert_exporter": "python",
   "pygments_lexer": "ipython3",
   "version": "3.9.12"
  }
 },
 "nbformat": 4,
 "nbformat_minor": 5
}
